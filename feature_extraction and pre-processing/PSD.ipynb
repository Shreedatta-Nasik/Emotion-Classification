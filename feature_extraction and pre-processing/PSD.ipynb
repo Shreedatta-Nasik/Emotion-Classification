{
 "cells": [
  {
   "cell_type": "code",
   "execution_count": 1,
   "metadata": {},
   "outputs": [],
   "source": [
    "import numpy as np\n",
    "import pandas as pd\n",
    "from scipy.signal import welch "
   ]
  },
  {
   "cell_type": "code",
   "execution_count": 2,
   "metadata": {},
   "outputs": [],
   "source": [
    "def PSD(signal,sample_rate:int,npersseg):\n",
    "    features=[]\n",
    "    for k in range(32):\n",
    "        points=signal.iloc[:,k]\n",
    "        _,yf=welch(points.to_numpy(),sample_rate,nperseg=npersseg,window='hann')\n",
    "        indices=int(npersseg/sample_rate*45)\n",
    "        features.append(yf[:indices])\n",
    "    return features"
   ]
  },
  {
   "cell_type": "code",
   "execution_count": 3,
   "metadata": {},
   "outputs": [],
   "source": [
    "data_columns=['Fp1', 'AF3', 'F3', 'F7', 'FC5', 'FC1', 'C3', 'T7', 'CP5', 'CP1', 'P3',\n",
    "       'P7', 'PO3', 'O1', 'Oz', 'Pz', 'Fp2', 'AF4', 'Fz', 'F4', 'F8', 'FC6',\n",
    "       'FC2', 'Cz', 'C4', 'T8', 'CP6', 'CP2', 'P4', 'P8', 'PO4', 'O2']"
   ]
  },
  {
   "cell_type": "code",
   "execution_count": 5,
   "metadata": {},
   "outputs": [],
   "source": [
    "featured_data=[]\n",
    "for i in range(1,33):\n",
    "    subjects=[]\n",
    "    for j in range(1,41):\n",
    "        data=pd.read_csv(f'../EEG_processed/s{i}_{j}data.csv').transpose().iloc[385:,0:32]\n",
    "        features=PSD(data,128,1024)\n",
    "        subjects.append(features)\n",
    "    featured_data.append(subjects)"
   ]
  },
  {
   "cell_type": "code",
   "execution_count": 6,
   "metadata": {},
   "outputs": [],
   "source": [
    "arr=np.array(featured_data).reshape(460800,32)\n",
    "data=pd.DataFrame(arr,columns=data_columns).to_csv()\n",
    "with open(f'../datasets/PSD360.csv','a') as file:\n",
    "    file.write(data)"
   ]
  },
  {
   "cell_type": "code",
   "execution_count": 10,
   "metadata": {},
   "outputs": [],
   "source": [
    "data=pd.read_csv(f'../datasets/PSD360.csv').iloc[:,1:33]"
   ]
  },
  {
   "cell_type": "code",
   "execution_count": 11,
   "metadata": {},
   "outputs": [],
   "source": [
    "featured_data=[]\n",
    "for i in range(32):\n",
    "    avg_data=[]\n",
    "    segment=data.iloc[:,i].to_numpy()\n",
    "    for j in range(0,460800,8):\n",
    "        avg_data.append(np.mean(segment[j:j+8])) #for PSD(1280,32) change from 8 to 360\n",
    "    featured_data.append(avg_data)"
   ]
  },
  {
   "cell_type": "code",
   "execution_count": 12,
   "metadata": {},
   "outputs": [],
   "source": [
    "arr=np.array(featured_data).reshape(57600,32)\n",
    "data=pd.DataFrame(arr,columns=data_columns).to_csv()\n",
    "with open(f'../datasets/PSD45.csv','a') as file:\n",
    "    file.write(data)"
   ]
  },
  {
   "cell_type": "code",
   "execution_count": null,
   "metadata": {},
   "outputs": [],
   "source": []
  }
 ],
 "metadata": {
  "kernelspec": {
   "display_name": "Python 3",
   "language": "python",
   "name": "python3"
  },
  "language_info": {
   "codemirror_mode": {
    "name": "ipython",
    "version": 3
   },
   "file_extension": ".py",
   "mimetype": "text/x-python",
   "name": "python",
   "nbconvert_exporter": "python",
   "pygments_lexer": "ipython3",
   "version": "3.11.5"
  }
 },
 "nbformat": 4,
 "nbformat_minor": 2
}
