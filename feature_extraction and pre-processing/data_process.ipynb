{
 "cells": [
  {
   "cell_type": "code",
   "execution_count": 7,
   "metadata": {},
   "outputs": [],
   "source": [
    "import pickle\n",
    "import pandas as pd"
   ]
  },
  {
   "cell_type": "code",
   "execution_count": 8,
   "metadata": {},
   "outputs": [],
   "source": [
    "for i in range(1,33):\n",
    "    with open(f'EEG_signals_raw/s{i}.dat','rb') as file:\n",
    "        EEG=pickle.load(file,encoding='latin1')\n",
    "        labels=pd.DataFrame(EEG['labels']).to_csv()\n",
    "        with open(f's{i}labels.csv','a') as csv_file:\n",
    "            csv_file.write(labels)\n",
    "        for j in range(1,41):\n",
    "            data=pd.DataFrame(EEG['data'][j-1]).to_csv()\n",
    "            with open(f's{i}_{j}data.csv','a') as csv_file:\n",
    "                csv_file.write(data)"
   ]
  }
 ],
 "metadata": {
  "kernelspec": {
   "display_name": "Python 3",
   "language": "python",
   "name": "python3"
  },
  "language_info": {
   "codemirror_mode": {
    "name": "ipython",
    "version": 3
   },
   "file_extension": ".py",
   "mimetype": "text/x-python",
   "name": "python",
   "nbconvert_exporter": "python",
   "pygments_lexer": "ipython3",
   "version": "3.11.9"
  }
 },
 "nbformat": 4,
 "nbformat_minor": 2
}
