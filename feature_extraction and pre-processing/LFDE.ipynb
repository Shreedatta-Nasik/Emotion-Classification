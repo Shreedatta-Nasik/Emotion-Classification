{
 "cells": [
  {
   "cell_type": "code",
   "execution_count": 5,
   "metadata": {},
   "outputs": [],
   "source": [
    "import numpy as np\n",
    "import pandas as pd"
   ]
  },
  {
   "cell_type": "code",
   "execution_count": 6,
   "metadata": {},
   "outputs": [],
   "source": [
    "def LF_DE(data):\n",
    "    features=[]\n",
    "    for k in range(32):\n",
    "        points=data.iloc[:,k]\n",
    "        diff=np.diff(points,2)\n",
    "        var=np.var(diff)\n",
    "        lf_de=np.sqrt(2*np.pi*np.exp(1)*var)/(1+np.sqrt(2*np.pi*np.exp(1)*var))\n",
    "        features.append(lf_de)\n",
    "    return features"
   ]
  },
  {
   "cell_type": "code",
   "execution_count": 7,
   "metadata": {},
   "outputs": [],
   "source": [
    "data_columns=['Fp1', 'AF3', 'F3', 'F7', 'FC5', 'FC1', 'C3', 'T7', 'CP5', 'CP1', 'P3',\n",
    "       'P7', 'PO3', 'O1', 'Oz', 'Pz', 'Fp2', 'AF4', 'Fz', 'F4', 'F8', 'FC6',\n",
    "       'FC2', 'Cz', 'C4', 'T8', 'CP6', 'CP2', 'P4', 'P8', 'PO4', 'O2']"
   ]
  },
  {
   "cell_type": "code",
   "execution_count": 8,
   "metadata": {},
   "outputs": [],
   "source": [
    "featured_data=[]\n",
    "for i in range(1,33):\n",
    "    subjects=[]\n",
    "    for j in range(1,41):\n",
    "        data=pd.read_csv(f'../EEG_processed/s{i}_{j}data.csv').transpose().iloc[385:,0:32]\n",
    "        segments=[]\n",
    "        for k in range(60):\n",
    "            segments.append(LF_DE(data.iloc[k*128:(k+1)*128]))\n",
    "        subjects.append(segments)\n",
    "    featured_data.append(subjects)"
   ]
  },
  {
   "cell_type": "code",
   "execution_count": 9,
   "metadata": {},
   "outputs": [],
   "source": [
    "arr=np.array(featured_data).reshape(76800,32)\n",
    "data=pd.DataFrame(arr,columns=data_columns).to_csv()\n",
    "with open(f'../datasets/LFDE60.csv','a') as file:\n",
    "    file.write(data)"
   ]
  },
  {
   "cell_type": "code",
   "execution_count": 10,
   "metadata": {},
   "outputs": [],
   "source": [
    "data=pd.read_csv(f'../datasets/LFDE60.csv').iloc[:,1:33]"
   ]
  },
  {
   "cell_type": "code",
   "execution_count": 11,
   "metadata": {},
   "outputs": [],
   "source": [
    "featured_data=[]\n",
    "for i in range(32):\n",
    "    avg_data=[]\n",
    "    segment=data.iloc[:,i].to_numpy()\n",
    "    for j in range(0,76800,60):\n",
    "        avg_data.append(np.mean(segment[j:j+60]))\n",
    "    featured_data.append(avg_data)"
   ]
  },
  {
   "cell_type": "code",
   "execution_count": 12,
   "metadata": {},
   "outputs": [],
   "source": [
    "arr=np.array(featured_data).reshape(1280,32)\n",
    "data=pd.DataFrame(arr,columns=data_columns).to_csv()\n",
    "with open(f'LFDE.csv','a') as file:\n",
    "    file.write(data)"
   ]
  },
  {
   "cell_type": "code",
   "execution_count": null,
   "metadata": {},
   "outputs": [],
   "source": []
  }
 ],
 "metadata": {
  "kernelspec": {
   "display_name": "Python 3",
   "language": "python",
   "name": "python3"
  },
  "language_info": {
   "codemirror_mode": {
    "name": "ipython",
    "version": 3
   },
   "file_extension": ".py",
   "mimetype": "text/x-python",
   "name": "python",
   "nbconvert_exporter": "python",
   "pygments_lexer": "ipython3",
   "version": "3.11.5"
  }
 },
 "nbformat": 4,
 "nbformat_minor": 2
}
